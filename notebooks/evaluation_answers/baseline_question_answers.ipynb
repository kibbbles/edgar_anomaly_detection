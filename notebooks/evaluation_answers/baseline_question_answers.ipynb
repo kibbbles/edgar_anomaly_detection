{
 "cells": [
  {
   "cell_type": "markdown",
   "metadata": {},
   "source": [
    "# Baseline Question Answers - Manual SEC Filing Research\n",
    "\n",
    "This notebook documents the ground truth answers for baseline evaluation questions, found by manually reviewing SEC EDGAR filings.\n",
    "\n",
    "**Purpose:** Use these answers to evaluate LLM accuracy (gpt-oss, llama3-sec) when querying the RAG system.\n",
    "\n",
    "**Method:** Manual review of original SEC filings via https://www.sec.gov/edgar/search/\n",
    "\n",
    "---"
   ]
  },
  {
   "cell_type": "markdown",
   "metadata": {},
   "source": "## Question 1: Apple Inc. Total Revenue for FY2024\n\n**Question:** What was Apple Inc.'s total revenue for fiscal year 2024 as reported in their 10-K filing?\n\n**Answer:** $391.035 billion (or $391,035 million)\n\n![Apple FY2024 Total Revenue](question1_apple_total_rev_fy2024.png)\n\n**Source:**\n- **Filing Type:** 10-K\n- **Company:** Apple Inc. (CIK: 0000320193)\n- **Filing Date:** November 1, 2024\n- **Fiscal Period:** Year ended September 28, 2024\n- **Location in Filing:** Part II, Item 8 - Consolidated Statements of Operations\n- **Exact Line:** \"Total net sales\" row for fiscal year 2024\n\n**How to Find:**\n1. Go to https://www.sec.gov/edgar/search/#/q=apple\n2. Filter: Filing Type = \"10-K\"\n3. Select filing dated November 1, 2024\n4. Open main \"10-K\" document (not exhibits)\n5. Search for \"Consolidated Statements of Operations\"\n6. Look at first line: \"Total net sales\" for 2024 column\n\n**Breakdown:**\n- Products revenue: $334.2 billion\n- Services revenue: $56.8 billion\n- **Total net sales: $391.0 billion**\n\n---"
  },
  {
   "cell_type": "markdown",
   "metadata": {},
   "source": [
    "## Question 2: Microsoft Revenue Growth Strategy Q1 vs Q4 FY2024\n",
    "\n",
    "**Question:** Compare Microsoft's revenue growth strategy between Q1 and Q4 2024 based on their 10-Q filings. What changed?\n",
    "\n",
    "**Source Documents:**\n",
    "- **Q1 FY2024:** 10-Q filed October 24, 2023 (period ended September 30, 2023)\n",
    "- **Q4 FY2024:** 10-K filed July 30, 2024 (period ended June 30, 2024)\n",
    "\n",
    "**Note:** Q4 data comes from the annual 10-K, not a 10-Q (companies don't file 10-Q for Q4)\n",
    "\n",
    "---"
   ]
  },
  {
   "cell_type": "markdown",
   "metadata": {},
   "source": [
    "### Key Strategic Changes: Q1 → Q4 FY2024\n",
    "\n",
    "#### 1. **Mission Statement Evolution**\n",
    "\n",
    "**Q1 FY2024 (Oct 2023):**\n",
    "> \"Microsoft is a technology company whose mission is to empower every person and every organization on the planet to achieve more. We strive to create local opportunity, growth, and impact in every country around the world.\"\n",
    "\n",
    "**Q4 FY2024 (July 2024):**\n",
    "> \"Microsoft is a technology company **committed to making digital technology and artificial intelligence (\"AI\") available broadly and doing so responsibly**, with a mission to empower every person and every organization on the planet to achieve more.\"\n",
    "\n",
    "**Change:** AI became **central to mission statement** - explicitly called out as a core commitment alongside responsible deployment.\n",
    "\n",
    "---"
   ]
  },
  {
   "cell_type": "markdown",
   "metadata": {},
   "source": [
    "#### 2. **Platform Positioning**\n",
    "\n",
    "**Q1 FY2024:**\n",
    "> \"We are creating the platforms and tools, **powered by artificial intelligence (\"AI\")**, that deliver better, faster, and more effective solutions...\"\n",
    "\n",
    "**Q4 FY2024:**\n",
    "> \"We create platforms and tools, **powered by AI**, that deliver innovative solutions that meet the evolving needs of our customers.\"\n",
    "\n",
    "**Change:** AI positioning remained consistent but messaging became more concise and customer-focused (\"innovative solutions\" vs. \"better, faster, more effective\").\n",
    "\n",
    "---"
   ]
  },
  {
   "cell_type": "markdown",
   "metadata": {},
   "source": [
    "#### 3. **Revenue Performance**\n",
    "\n",
    "| Metric | Q1 FY2024 Growth (YoY) | Full FY2024 Growth (YoY) | Trend |\n",
    "|--------|------------------------|--------------------------|-------|\n",
    "| **Microsoft Cloud** | +24% ($31.8B) | +23% ($137.4B) | Sustained high growth |\n",
    "| **Office 365 Commercial** | +18% | +16% | Slight deceleration |\n",
    "| **Azure & Cloud Services** | +29% | +30% | **Accelerated** |\n",
    "| **Dynamics 365** | +28% | +24% | Moderated but strong |\n",
    "| **Xbox Content & Services** | +13% | +50% | **Massive acceleration** |\n",
    "| **LinkedIn** | +8% | +9% | Steady |\n",
    "| **Windows OEM** | +4% | +7% | Improved |\n",
    "| **Devices** | -22% | -15% | Declining (strategic retreat) |\n",
    "\n",
    "---"
   ]
  },
  {
   "cell_type": "markdown",
   "metadata": {},
   "source": [
    "#### 4. **Major Strategic Event: Activision Blizzard Acquisition**\n",
    "\n",
    "**Timeline:**\n",
    "- **Q1 FY2024 (Sept 30, 2023):** Acquisition **not yet completed** - no mention in Q1 10-Q\n",
    "- **October 13, 2023:** Acquisition completed ($75.4 billion)\n",
    "- **Q4 FY2024 (June 30, 2024):** Full integration underway\n",
    "\n",
    "**Impact:**\n",
    "> \"Xbox content and services revenue increased 50% driven by **44 points of net impact from the Activision Blizzard Inc. acquisition**. The net impact reflects the change of Activision Blizzard content from third-party to first-party.\"\n",
    "\n",
    "**Change:** Gaming became a **significantly larger strategic pillar** with the largest acquisition in Microsoft's history.\n",
    "\n",
    "---"
   ]
  },
  {
   "cell_type": "markdown",
   "metadata": {},
   "source": [
    "#### 5. **Consumer Subscriber Growth**\n",
    "\n",
    "| Product | Q1 FY2024 | Q4 FY2024 | Growth |\n",
    "|---------|-----------|-----------|--------|\n",
    "| **Microsoft 365 Consumer Subscribers** | 76.7 million | 82.5 million | +5.8 million (+7.6%) |\n",
    "\n",
    "**Change:** Strong consumer subscription growth throughout the year.\n",
    "\n",
    "---"
   ]
  },
  {
   "cell_type": "markdown",
   "metadata": {},
   "source": [
    "### Summary of Strategic Changes (Q1 → Q4 FY2024)\n",
    "\n",
    "#### What Changed:\n",
    "\n",
    "1. **AI Emphasis Formalized**\n",
    "   - AI moved from \"tool\" to **core mission commitment**\n",
    "   - Explicit focus on \"responsible AI\" deployment\n",
    "\n",
    "2. **Gaming Strategy Transformation**\n",
    "   - Activision Blizzard acquisition completed mid-year\n",
    "   - Xbox revenue growth accelerated from +13% → +50%\n",
    "   - Gaming became a **major first-party content pillar**\n",
    "\n",
    "3. **Cloud Momentum**\n",
    "   - Azure growth actually **accelerated** (29% → 30%)\n",
    "   - Microsoft Cloud maintained 23-24% growth consistently\n",
    "   - Cloud became even more dominant revenue driver\n",
    "\n",
    "4. **Product Portfolio Rationalization**\n",
    "   - Devices revenue continued decline (-22% → -15%)\n",
    "   - Suggests strategic de-emphasis of hardware (except Xbox/gaming)\n",
    "\n",
    "5. **Customer Focus Shift**\n",
    "   - Messaging evolved from \"better, faster, more effective\" to \"innovative solutions that meet evolving customer needs\"\n",
    "   - More customer-centric, less technology-centric language\n",
    "\n",
    "#### What Stayed Consistent:\n",
    "\n",
    "- AI-powered platforms as core differentiator\n",
    "- Cloud-first revenue strategy\n",
    "- Subscription-based business model growth\n",
    "- Enterprise + consumer dual focus\n",
    "\n",
    "---"
   ]
  },
  {
   "cell_type": "markdown",
   "metadata": {},
   "source": [
    "### Answer to Original Question:\n",
    "\n",
    "**\"Compare Microsoft's revenue growth strategy between Q1 and Q4 2024. What changed?\"**\n",
    "\n",
    "**Short Answer:**\n",
    "\n",
    "Between Q1 and Q4 FY2024, Microsoft's revenue growth strategy evolved in three major ways:\n",
    "\n",
    "1. **AI became a formal mission commitment** (not just a technology) with emphasis on responsible deployment\n",
    "\n",
    "2. **Gaming was dramatically elevated** through the $75.4B Activision Blizzard acquisition, transforming Xbox from +13% to +50% revenue growth\n",
    "\n",
    "3. **Cloud acceleration intensified** with Azure growth increasing from 29% to 30%, while devices (-22% to -15%) showed continued strategic de-prioritization\n",
    "\n",
    "The overarching shift: From AI as a \"tool\" to AI as a **corporate identity**, combined with major gaming expansion and sustained cloud dominance.\n",
    "\n",
    "---"
   ]
  },
  {
   "cell_type": "markdown",
   "metadata": {},
   "source": "## Notes on Finding This Information\n\n### Key Learnings:\n\n1. **Q4 is in the 10-K, not a separate 10-Q**\n   - Companies file 10-Q for Q1, Q2, Q3\n   - Q4 data is included in the annual 10-K\n\n2. **Fiscal years don't match calendar years**\n   - Microsoft FY2024 = July 2023 - June 2024\n   - Apple FY2024 = October 2023 - September 2024\n\n3. **MD&A is the strategic goldmine**\n   - Item 2 (in 10-Q) or Item 7 (in 10-K)\n   - \"Overview\" section shows management priorities\n   - First 2-3 pages contain most strategic insights\n\n4. **Exhibits (EX-XX.X) are NOT the main filing**\n   - Look for plain \"10-K\" or \"10-Q\" in document list\n   - Exhibits are supplementary (subsidiaries, certifications, etc.)\n\n5. **Compare exact wording changes**\n   - Mission statement evolution reveals strategic shifts\n   - Product mention order shows prioritization\n   - New terms appearing = new strategic focus\n\n### Item 1 vs Item 7 - What's the Difference?\n\n**Item 1: Business**\n- **What it is:** General company overview and business description\n- **Content:** \n  - What the company does (products, services, business model)\n  - Operating segments\n  - Competition\n  - Regulatory environment\n  - Relatively **static year-to-year** (doesn't change much unless major business shift)\n  \n**Item 7: Management's Discussion & Analysis (MD&A)**\n- **What it is:** Management's interpretation of financial results and strategy\n- **Content:**\n  - **Performance analysis** (revenue, costs, trends)\n  - **Strategic priorities** (what management is focusing on NOW)\n  - **Forward-looking statements** (plans, investments, risks)\n  - **Changes dynamically** every quarter/year based on results and strategy\n\n**For strategy comparison questions:**\n- **Use Item 7 (MD&A)** - This is where you'll see strategic shifts, new priorities, and management's current thinking\n- Item 1 is too static and high-level for detecting quarterly/yearly strategy changes\n\n**Why they look similar:**\n- Item 1 describes the business model\n- Item 7 discusses how that business performed and where it's going\n- Some wording overlaps, but Item 7 is more specific to the period and strategic\n\n**Quick test:** \n- Item 1 answers \"What does this company do?\"\n- Item 7 answers \"How did we perform and what are we doing next?\"\n\n---"
  },
  {
   "cell_type": "markdown",
   "metadata": {},
   "source": [
    "## Template for Additional Questions\n",
    "\n",
    "### Question X: [Question Text]\n",
    "\n",
    "**Question:** \n",
    "\n",
    "**Answer:** \n",
    "\n",
    "**Source:**\n",
    "- **Filing Type:** \n",
    "- **Company:** \n",
    "- **Filing Date:** \n",
    "- **Fiscal Period:** \n",
    "- **Location in Filing:** \n",
    "\n",
    "**How to Find:**\n",
    "\n",
    "**Notes:**\n",
    "\n",
    "---"
   ]
  }
 ],
 "metadata": {
  "kernelspec": {
   "display_name": "Python 3",
   "language": "python",
   "name": "python3"
  },
  "language_info": {
   "name": "python",
   "version": "3.12.0"
  }
 },
 "nbformat": 4,
 "nbformat_minor": 2
}